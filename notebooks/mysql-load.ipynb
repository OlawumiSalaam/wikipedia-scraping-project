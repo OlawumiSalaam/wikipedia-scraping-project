{
 "cells": [
  {
   "cell_type": "markdown",
   "metadata": {},
   "source": [
    "## Loading Scraped Data into MySQL Database\n",
    "This notebook I loaded cleaned university data into a MySQL database. The data is first read from a CSV file, and then inserted into a MySQL database using SQLAlchemy and pymysql.\n",
    "\n",
    "Dependencies: Python installed with pandas, pymysql, and SQLAlchemy libraries.\n",
    "\n",
    "MySQL server running and accessible.\n",
    "\n",
    "Cleaned data available in universities_clean.csv.\n",
    "\n",
    "SQL script files mysql_create_table.sql and mysql_upsert.sql for creating and upserting data into the MySQL table."
   ]
  },
  {
   "cell_type": "markdown",
   "metadata": {},
   "source": [
    "## 1. Import Libraries"
   ]
  },
  {
   "cell_type": "code",
   "execution_count": 2,
   "metadata": {},
   "outputs": [],
   "source": [
    "import pandas as pd     # for data manipulation\n",
    "import pymysql          # pymysql to connect to MySQL\n",
    "from sqlalchemy import create_engine       # to create the database engine"
   ]
  },
  {
   "cell_type": "markdown",
   "metadata": {},
   "source": [
    "## 2. Read the Cleaned Data"
   ]
  },
  {
   "cell_type": "code",
   "execution_count": 3,
   "metadata": {},
   "outputs": [],
   "source": [
    "# read the data into df\n",
    "df = pd.read_csv('universities_clean.csv')"
   ]
  },
  {
   "cell_type": "code",
   "execution_count": 4,
   "metadata": {},
   "outputs": [
    {
     "data": {
      "text/html": [
       "<div>\n",
       "<style scoped>\n",
       "    .dataframe tbody tr th:only-of-type {\n",
       "        vertical-align: middle;\n",
       "    }\n",
       "\n",
       "    .dataframe tbody tr th {\n",
       "        vertical-align: top;\n",
       "    }\n",
       "\n",
       "    .dataframe thead th {\n",
       "        text-align: right;\n",
       "    }\n",
       "</style>\n",
       "<table border=\"1\" class=\"dataframe\">\n",
       "  <thead>\n",
       "    <tr style=\"text-align: right;\">\n",
       "      <th></th>\n",
       "      <th>Country</th>\n",
       "      <th>University</th>\n",
       "      <th>Founded</th>\n",
       "      <th>Type</th>\n",
       "      <th>Enrollment</th>\n",
       "      <th>Link</th>\n",
       "    </tr>\n",
       "  </thead>\n",
       "  <tbody>\n",
       "    <tr>\n",
       "      <th>0</th>\n",
       "      <td>Albania</td>\n",
       "      <td>University of Tirana</td>\n",
       "      <td>1957</td>\n",
       "      <td>Public</td>\n",
       "      <td>35000</td>\n",
       "      <td>https://en.wikipedia.org/wiki/University_of_Ti...</td>\n",
       "    </tr>\n",
       "    <tr>\n",
       "      <th>1</th>\n",
       "      <td>Algeria</td>\n",
       "      <td>Constantine University</td>\n",
       "      <td>1978</td>\n",
       "      <td>Public</td>\n",
       "      <td>85000</td>\n",
       "      <td>https://en.wikipedia.org/wiki/List_of_universi...</td>\n",
       "    </tr>\n",
       "    <tr>\n",
       "      <th>2</th>\n",
       "      <td>Angola</td>\n",
       "      <td>Agostinho Neto University</td>\n",
       "      <td>1962</td>\n",
       "      <td>Public</td>\n",
       "      <td>29827</td>\n",
       "      <td>https://en.wikipedia.org/wiki/Agostinho_Neto_U...</td>\n",
       "    </tr>\n",
       "    <tr>\n",
       "      <th>3</th>\n",
       "      <td>Argentina</td>\n",
       "      <td>University of Buenos Aires</td>\n",
       "      <td>1821</td>\n",
       "      <td>Public</td>\n",
       "      <td>311175</td>\n",
       "      <td>https://en.wikipedia.org/wiki/University_of_Bu...</td>\n",
       "    </tr>\n",
       "    <tr>\n",
       "      <th>4</th>\n",
       "      <td>Australia</td>\n",
       "      <td>Monash University</td>\n",
       "      <td>1958</td>\n",
       "      <td>Public</td>\n",
       "      <td>73807</td>\n",
       "      <td>https://en.wikipedia.org/wiki/Monash_University</td>\n",
       "    </tr>\n",
       "  </tbody>\n",
       "</table>\n",
       "</div>"
      ],
      "text/plain": [
       "     Country                  University  Founded    Type  Enrollment  \\\n",
       "0    Albania        University of Tirana     1957  Public       35000   \n",
       "1    Algeria      Constantine University     1978  Public       85000   \n",
       "2     Angola   Agostinho Neto University     1962  Public       29827   \n",
       "3  Argentina  University of Buenos Aires     1821  Public      311175   \n",
       "4  Australia           Monash University     1958  Public       73807   \n",
       "\n",
       "                                                Link  \n",
       "0  https://en.wikipedia.org/wiki/University_of_Ti...  \n",
       "1  https://en.wikipedia.org/wiki/List_of_universi...  \n",
       "2  https://en.wikipedia.org/wiki/Agostinho_Neto_U...  \n",
       "3  https://en.wikipedia.org/wiki/University_of_Bu...  \n",
       "4    https://en.wikipedia.org/wiki/Monash_University  "
      ]
     },
     "execution_count": 4,
     "metadata": {},
     "output_type": "execute_result"
    }
   ],
   "source": [
    "# display the first 5 rows\n",
    "df.head()"
   ]
  },
  {
   "cell_type": "markdown",
   "metadata": {},
   "source": [
    "## 3. Establish Connection to MySQL Database"
   ]
  },
  {
   "cell_type": "code",
   "execution_count": null,
   "metadata": {},
   "outputs": [],
   "source": [
    "# define the parameters and set up the connection to the database\n",
    "conn = pymysql.connect(\n",
    "    host='localhost',  # Hostname \n",
    "    port=3306,  # Port number of the MySQL server\n",
    "    user='amdariuser',  # Username for the MySQL database\n",
    "    password='amdariuserpassword',  # Password for the MySQL database\n",
    "    database='amdaridb'  # Name of the database to connect to\n",
    ")\n",
    "  # Create a cursor object to execute SQL queries\n",
    "cursor = conn.cursor()"
   ]
  },
  {
   "cell_type": "markdown",
   "metadata": {},
   "source": [
    "## 4. Verify Connection and Database State"
   ]
  },
  {
   "cell_type": "code",
   "execution_count": 7,
   "metadata": {},
   "outputs": [
    {
     "data": {
      "text/plain": [
       "3"
      ]
     },
     "execution_count": 7,
     "metadata": {},
     "output_type": "execute_result"
    }
   ],
   "source": [
    "# Execute SQL command to show all databases\n",
    "cursor.execute('SHOW DATABASES;')"
   ]
  },
  {
   "cell_type": "code",
   "execution_count": 8,
   "metadata": {},
   "outputs": [
    {
     "data": {
      "text/plain": [
       "(('amdaridb',), ('information_schema',), ('performance_schema',))"
      ]
     },
     "execution_count": 8,
     "metadata": {},
     "output_type": "execute_result"
    }
   ],
   "source": [
    "# check the results to verify the connection\n",
    "cursor.fetchall()"
   ]
  },
  {
   "cell_type": "code",
   "execution_count": 9,
   "metadata": {},
   "outputs": [
    {
     "data": {
      "text/plain": [
       "0"
      ]
     },
     "execution_count": 9,
     "metadata": {},
     "output_type": "execute_result"
    }
   ],
   "source": [
    "# Execute SQL command to show all tables in the current database\n",
    "cursor.execute('SHOW TABLES;')"
   ]
  },
  {
   "cell_type": "code",
   "execution_count": 10,
   "metadata": {},
   "outputs": [
    {
     "data": {
      "text/plain": [
       "()"
      ]
     },
     "execution_count": 10,
     "metadata": {},
     "output_type": "execute_result"
    }
   ],
   "source": [
    "# check the results to verify the connection\n",
    "cursor.fetchall()"
   ]
  },
  {
   "cell_type": "markdown",
   "metadata": {},
   "source": [
    "## 5. Create Table in MySQL"
   ]
  },
  {
   "cell_type": "code",
   "execution_count": 22,
   "metadata": {},
   "outputs": [
    {
     "data": {
      "text/plain": [
       "'CREATE TABLE university(\\n    id BIGINT AUTO_INCREMENT NOT NULL,\\n    country VARCHAR(255) NOT NULL,\\n    name VARCHAR(255) NOT NULL,\\n    founded INT NOT NULL,\\n    type VARCHAR(255) NOT NULL,\\n    enrollment BIGINT NOT NULL,\\n    link VARCHAR(255) NOT NULL,\\n\\n\\n    UNIQUE KEY unique_combination (country, name),\\n    PRIMARY KEY (id)\\n);'"
      ]
     },
     "execution_count": 22,
     "metadata": {},
     "output_type": "execute_result"
    }
   ],
   "source": [
    "# create table\n",
    "create_query_file = open('./sql/mysql_create_table.sql')\n",
    "create_query = create_query_file.read()\n",
    "create_query"
   ]
  },
  {
   "cell_type": "code",
   "execution_count": 23,
   "metadata": {},
   "outputs": [
    {
     "data": {
      "text/plain": [
       "0"
      ]
     },
     "execution_count": 23,
     "metadata": {},
     "output_type": "execute_result"
    }
   ],
   "source": [
    "cursor.execute(create_query)"
   ]
  },
  {
   "cell_type": "markdown",
   "metadata": {},
   "source": [
    "## 6. Prepare Data for Insertion"
   ]
  },
  {
   "cell_type": "code",
   "execution_count": 31,
   "metadata": {},
   "outputs": [],
   "source": [
    "data = list(df.itertuples(index=None, name=None))"
   ]
  },
  {
   "cell_type": "code",
   "execution_count": 32,
   "metadata": {},
   "outputs": [
    {
     "data": {
      "text/plain": [
       "[('Albania',\n",
       "  'University of Tirana',\n",
       "  1957,\n",
       "  'Public',\n",
       "  35000,\n",
       "  'https://en.wikipedia.org/wiki/University_of_Tirana'),\n",
       " ('Algeria',\n",
       "  'Constantine University',\n",
       "  1978,\n",
       "  'Public',\n",
       "  85000,\n",
       "  'https://en.wikipedia.org/wiki/List_of_universities_in_Algeria'),\n",
       " ('Angola',\n",
       "  'Agostinho Neto University',\n",
       "  1962,\n",
       "  'Public',\n",
       "  29827,\n",
       "  'https://en.wikipedia.org/wiki/Agostinho_Neto_University'),\n",
       " ('Argentina',\n",
       "  'University of Buenos Aires',\n",
       "  1821,\n",
       "  'Public',\n",
       "  311175,\n",
       "  'https://en.wikipedia.org/wiki/University_of_Buenos_Aires'),\n",
       " ('Australia',\n",
       "  'Monash University',\n",
       "  1958,\n",
       "  'Public',\n",
       "  73807,\n",
       "  'https://en.wikipedia.org/wiki/Monash_University'),\n",
       " ('Austria',\n",
       "  'University of Vienna',\n",
       "  1365,\n",
       "  'Public',\n",
       "  91000,\n",
       "  'https://en.wikipedia.org/wiki/University_of_Vienna'),\n",
       " ('Bangladesh',\n",
       "  'National University, Bangladesh',\n",
       "  1992,\n",
       "  'Public',\n",
       "  2097,\n",
       "  'https://en.wikipedia.org/wiki/National_University,_Bangladesh'),\n",
       " ('Belarus',\n",
       "  'Belarusian State University',\n",
       "  1921,\n",
       "  'Public',\n",
       "  25500,\n",
       "  'https://en.wikipedia.org/wiki/Belarusian_State_University'),\n",
       " ('Belgium',\n",
       "  'KU Leuven',\n",
       "  1425,\n",
       "  'Private, state-funded',\n",
       "  55484,\n",
       "  'https://en.wikipedia.org/wiki/Katholieke_Universiteit_Leuven'),\n",
       " ('Bosnia and Herzegovina',\n",
       "  'University of Sarajevo',\n",
       "  1949,\n",
       "  'Public',\n",
       "  30866,\n",
       "  'https://en.wikipedia.org/wiki/University_of_Sarajevo'),\n",
       " ('Botswana',\n",
       "  'University of Botswana',\n",
       "  1982,\n",
       "  'Public',\n",
       "  32000,\n",
       "  'https://en.wikipedia.org/wiki/University_of_Botswana'),\n",
       " ('Brazil',\n",
       "  'Estácio de Sá University',\n",
       "  1970,\n",
       "  'Private',\n",
       "  215000,\n",
       "  'https://en.wikipedia.org/wiki/Est%C3%A1cio_de_S%C3%A1_University'),\n",
       " ('Bulgaria',\n",
       "  'Sofia University',\n",
       "  1888,\n",
       "  'Public',\n",
       "  18911,\n",
       "  'https://en.wikipedia.org/wiki/Sofia_University'),\n",
       " ('Canada',\n",
       "  'University of Toronto',\n",
       "  1827,\n",
       "  'Public',\n",
       "  84000,\n",
       "  'https://en.wikipedia.org/wiki/University_of_Toronto'),\n",
       " ('China',\n",
       "  'Shanghai Open University',\n",
       "  1960,\n",
       "  'Public',\n",
       "  80000,\n",
       "  'https://en.wikipedia.org/wiki/Shanghai_Open_University'),\n",
       " ('Colombia',\n",
       "  'National University of Colombia',\n",
       "  1867,\n",
       "  'Public',\n",
       "  53581,\n",
       "  'https://en.wikipedia.org/wiki/National_University_of_Colombia'),\n",
       " ('Costa Rica',\n",
       "  'Universidad de Costa Rica',\n",
       "  1940,\n",
       "  'Public',\n",
       "  42750,\n",
       "  'https://en.wikipedia.org/wiki/Universidad_de_Costa_Rica'),\n",
       " ('Croatia',\n",
       "  'University of Zagreb',\n",
       "  1669,\n",
       "  'Public',\n",
       "  72480,\n",
       "  'https://en.wikipedia.org/wiki/University_of_Zagreb'),\n",
       " ('Denmark',\n",
       "  'Aarhus University',\n",
       "  1928,\n",
       "  'Public',\n",
       "  43600,\n",
       "  'https://en.wikipedia.org/wiki/Aarhus_University'),\n",
       " ('Dominican Republic',\n",
       "  'Universidad Autónoma de Santo Domingo',\n",
       "  1538,\n",
       "  'Public',\n",
       "  170530,\n",
       "  'https://en.wikipedia.org/wiki/Universidad_Aut%C3%B3noma_de_Santo_Domingo'),\n",
       " ('Egypt',\n",
       "  'Ain Shams University',\n",
       "  1950,\n",
       "  'Public',\n",
       "  170000,\n",
       "  'https://en.wikipedia.org/wiki/Ain_Shams_University'),\n",
       " ('Finland',\n",
       "  'University of Helsinki',\n",
       "  1640,\n",
       "  'Public',\n",
       "  36500,\n",
       "  'https://en.wikipedia.org/wiki/University_of_Helsinki'),\n",
       " ('France',\n",
       "  \"Centre national d'enseignement à distance\",\n",
       "  1939,\n",
       "  'Public',\n",
       "  350000,\n",
       "  'https://en.wikipedia.org/wiki/Centre_national_d%27enseignement_%C3%A0_distance'),\n",
       " ('Germany',\n",
       "  'IU International University of Applied Sciences',\n",
       "  1998,\n",
       "  'Private',\n",
       "  130000,\n",
       "  'https://en.wikipedia.org/wiki/IU_International_University_of_Applied_Sciences'),\n",
       " ('Greece',\n",
       "  'National and Kapodistrian University of Athens',\n",
       "  1837,\n",
       "  'Public',\n",
       "  104000,\n",
       "  'https://en.wikipedia.org/wiki/National_and_Kapodistrian_University_of_Athens'),\n",
       " ('Guatemala',\n",
       "  'Universidad de San Carlos de Guatemala',\n",
       "  1676,\n",
       "  'Public',\n",
       "  124000,\n",
       "  'https://en.wikipedia.org/wiki/Universidad_de_San_Carlos_de_Guatemala'),\n",
       " ('Hong Kong',\n",
       "  'Hong Kong Polytechnic University',\n",
       "  1937,\n",
       "  'Public',\n",
       "  32000,\n",
       "  'https://en.wikipedia.org/wiki/Hong_Kong_Polytechnic_University'),\n",
       " ('Iceland',\n",
       "  'University of Iceland',\n",
       "  1911,\n",
       "  'Public',\n",
       "  13782,\n",
       "  'https://en.wikipedia.org/wiki/University_of_Iceland'),\n",
       " ('India',\n",
       "  'Indira Gandhi National Open University',\n",
       "  1985,\n",
       "  'Public',\n",
       "  7140,\n",
       "  'https://en.wikipedia.org/wiki/Indira_Gandhi_National_Open_University'),\n",
       " ('Indonesia',\n",
       "  'Universitas Terbuka',\n",
       "  1984,\n",
       "  'Public',\n",
       "  1045,\n",
       "  'https://en.wikipedia.org/wiki/Universitas_Terbuka'),\n",
       " ('Iran',\n",
       "  'Islamic Azad University',\n",
       "  1982,\n",
       "  'Semi-private',\n",
       "  1000,\n",
       "  'https://en.wikipedia.org/wiki/Islamic_Azad_University'),\n",
       " ('Ireland',\n",
       "  'University College Dublin',\n",
       "  1834,\n",
       "  'Public (formerly private)',\n",
       "  32900,\n",
       "  'https://en.wikipedia.org/wiki/University_College_Dublin'),\n",
       " ('Israel',\n",
       "  'Tel Aviv University',\n",
       "  1956,\n",
       "  'Public',\n",
       "  26023,\n",
       "  'https://en.wikipedia.org/wiki/Tel_Aviv_University'),\n",
       " ('Italy',\n",
       "  'Sapienza University of Rome',\n",
       "  1303,\n",
       "  'Public',\n",
       "  112564,\n",
       "  'https://en.wikipedia.org/wiki/Sapienza_University_of_Rome'),\n",
       " ('Japan',\n",
       "  'Nihon University',\n",
       "  1889,\n",
       "  'Private',\n",
       "  70667,\n",
       "  'https://en.wikipedia.org/wiki/Nihon_University'),\n",
       " ('Kenya',\n",
       "  'University of Nairobi',\n",
       "  1970,\n",
       "  'Public',\n",
       "  84000,\n",
       "  'https://en.wikipedia.org/wiki/University_of_Nairobi'),\n",
       " ('Kosovo',\n",
       "  'Universiteti i Prishtinës',\n",
       "  1999,\n",
       "  'Public',\n",
       "  41833,\n",
       "  'https://en.wikipedia.org/wiki/Universiteti_i_Prishtin%C3%ABs'),\n",
       " ('Lithuania',\n",
       "  'Vilnius University',\n",
       "  1579,\n",
       "  'Public',\n",
       "  23606,\n",
       "  'https://en.wikipedia.org/wiki/Vilnius_University'),\n",
       " ('Macau',\n",
       "  'Macau University of Science and Technology',\n",
       "  2000,\n",
       "  'Private',\n",
       "  10373,\n",
       "  'https://en.wikipedia.org/wiki/Macau_University_of_Science_and_Technology'),\n",
       " ('Malaysia',\n",
       "  'Universiti Teknologi MARA',\n",
       "  1956,\n",
       "  'Public',\n",
       "  100000,\n",
       "  'https://en.wikipedia.org/wiki/Universiti_Teknologi_MARA'),\n",
       " ('Mexico',\n",
       "  'National Autonomous University of Mexico',\n",
       "  1551,\n",
       "  'Public',\n",
       "  349515,\n",
       "  'https://en.wikipedia.org/wiki/National_Autonomous_University_of_Mexico'),\n",
       " ('Nepal',\n",
       "  'Tribhuvan University',\n",
       "  1959,\n",
       "  'Public',\n",
       "  604437,\n",
       "  'https://en.wikipedia.org/wiki/Tribhuvan_University'),\n",
       " ('Netherlands',\n",
       "  'University of Amsterdam',\n",
       "  1632,\n",
       "  'Public',\n",
       "  31186,\n",
       "  'https://en.wikipedia.org/wiki/University_of_Amsterdam'),\n",
       " ('New Zealand',\n",
       "  'University of Auckland',\n",
       "  1883,\n",
       "  'Public',\n",
       "  33050,\n",
       "  'https://en.wikipedia.org/wiki/University_of_Auckland'),\n",
       " ('North Macedonia',\n",
       "  'University of Skopje',\n",
       "  1943,\n",
       "  'Public',\n",
       "  50000,\n",
       "  'https://en.wikipedia.org/wiki/University_of_Skopje'),\n",
       " ('Norway',\n",
       "  'Norwegian University of Science and Technology',\n",
       "  1996,\n",
       "  'Public',\n",
       "  39000,\n",
       "  'https://en.wikipedia.org/wiki/Norwegian_University_of_Science_and_Technology'),\n",
       " ('Pakistan',\n",
       "  'Virtual University of Pakistan',\n",
       "  2002,\n",
       "  'Public',\n",
       "  165000,\n",
       "  'https://en.wikipedia.org/wiki/Virtual_University_of_Pakistan'),\n",
       " ('Peru',\n",
       "  'National University of San Marcos',\n",
       "  1551,\n",
       "  'Private',\n",
       "  37032,\n",
       "  'https://en.wikipedia.org/wiki/National_University_of_San_Marcos'),\n",
       " ('Philippines',\n",
       "  'Polytechnic University of the Philippines',\n",
       "  1904,\n",
       "  'Public',\n",
       "  68249,\n",
       "  'https://en.wikipedia.org/wiki/Polytechnic_University_of_the_Philippines'),\n",
       " ('Poland',\n",
       "  'University of Warsaw',\n",
       "  1816,\n",
       "  'Public',\n",
       "  44400,\n",
       "  'https://en.wikipedia.org/wiki/University_of_Warsaw'),\n",
       " ('Portugal',\n",
       "  'University of Lisbon',\n",
       "  1288,\n",
       "  'Public',\n",
       "  48100,\n",
       "  'https://en.wikipedia.org/wiki/University_of_Lisbon'),\n",
       " ('Romania',\n",
       "  'Spiru Haret University',\n",
       "  1991,\n",
       "  'Private',\n",
       "  311928,\n",
       "  'https://en.wikipedia.org/wiki/Spiru_Haret_University'),\n",
       " ('Russia',\n",
       "  'Modern University for the Humanities',\n",
       "  1992,\n",
       "  'Private',\n",
       "  200000,\n",
       "  'https://en.wikipedia.org/wiki/Modern_University_for_the_Humanities'),\n",
       " ('Saudi Arabia',\n",
       "  'King Abdulaziz University',\n",
       "  1976,\n",
       "  'Public',\n",
       "  177234,\n",
       "  'https://en.wikipedia.org/wiki/King_Abdulaziz_University'),\n",
       " ('Singapore',\n",
       "  'National University of Singapore',\n",
       "  1905,\n",
       "  'Public',\n",
       "  38300,\n",
       "  'https://en.wikipedia.org/wiki/National_University_of_Singapore'),\n",
       " ('Slovenia',\n",
       "  'University of Ljubljana',\n",
       "  1919,\n",
       "  'Public',\n",
       "  48821,\n",
       "  'https://en.wikipedia.org/wiki/University_of_Ljubljana'),\n",
       " ('South Africa',\n",
       "  'University of South Africa',\n",
       "  1873,\n",
       "  'Public',\n",
       "  328179,\n",
       "  'https://en.wikipedia.org/wiki/University_of_South_Africa'),\n",
       " ('South Korea',\n",
       "  'Korea National Open University',\n",
       "  1972,\n",
       "  'Public',\n",
       "  173758,\n",
       "  'https://en.wikipedia.org/wiki/Korea_National_Open_University'),\n",
       " ('Spain',\n",
       "  'National University of Distance Education',\n",
       "  1972,\n",
       "  'Public',\n",
       "  260079,\n",
       "  'https://en.wikipedia.org/wiki/National_University_of_Distance_Education'),\n",
       " ('Sweden',\n",
       "  'Lund University',\n",
       "  1666,\n",
       "  'Public',\n",
       "  30646,\n",
       "  'https://en.wikipedia.org/wiki/Lund_University'),\n",
       " ('Switzerland',\n",
       "  'University of Zurich',\n",
       "  1833,\n",
       "  'Public',\n",
       "  26356,\n",
       "  'https://en.wikipedia.org/wiki/University_of_Zurich'),\n",
       " ('Taiwan',\n",
       "  'National Taiwan University',\n",
       "  1928,\n",
       "  'Public',\n",
       "  31758,\n",
       "  'https://en.wikipedia.org/wiki/National_Taiwan_University'),\n",
       " ('Thailand',\n",
       "  'Ramkhamhaeng University',\n",
       "  1971,\n",
       "  'Public',\n",
       "  525000,\n",
       "  'https://en.wikipedia.org/wiki/Ramkhamhaeng_University'),\n",
       " ('Trinidad and Tobago',\n",
       "  'University of the West Indies',\n",
       "  1960,\n",
       "  'Public',\n",
       "  60000,\n",
       "  'https://en.wikipedia.org/wiki/University_of_the_West_Indies'),\n",
       " ('Turkey',\n",
       "  'Anadolu University',\n",
       "  1958,\n",
       "  'Public',\n",
       "  1969,\n",
       "  'https://en.wikipedia.org/wiki/Anadolu_University'),\n",
       " ('United Kingdom',\n",
       "  'Open University',\n",
       "  1969,\n",
       "  'Public',\n",
       "  253075,\n",
       "  'https://en.wikipedia.org/wiki/Open_University'),\n",
       " ('United States',\n",
       "  'Texas A&M University',\n",
       "  1876,\n",
       "  'Public',\n",
       "  73284,\n",
       "  'https://en.wikipedia.org/wiki/Texas_A%26M_University'),\n",
       " ('Uruguay',\n",
       "  'University of the Republic',\n",
       "  1949,\n",
       "  'Public',\n",
       "  144108,\n",
       "  'https://en.wikipedia.org/wiki/University_of_the_Republic'),\n",
       " ('Venezuela',\n",
       "  'Universidad Central de Venezuela',\n",
       "  1721,\n",
       "  'Public',\n",
       "  41059,\n",
       "  'https://en.wikipedia.org/wiki/Universidad_Central_de_Venezuela')]"
      ]
     },
     "execution_count": 32,
     "metadata": {},
     "output_type": "execute_result"
    }
   ],
   "source": [
    "data"
   ]
  },
  {
   "cell_type": "markdown",
   "metadata": {},
   "source": [
    "## 7. Create SQLAlchemy Engine"
   ]
  },
  {
   "cell_type": "code",
   "execution_count": 27,
   "metadata": {},
   "outputs": [],
   "source": [
    "engine = create_engine('mysql+pymysql://', creator=lambda:conn)"
   ]
  },
  {
   "cell_type": "code",
   "execution_count": 28,
   "metadata": {},
   "outputs": [
    {
     "data": {
      "text/html": [
       "<div>\n",
       "<style scoped>\n",
       "    .dataframe tbody tr th:only-of-type {\n",
       "        vertical-align: middle;\n",
       "    }\n",
       "\n",
       "    .dataframe tbody tr th {\n",
       "        vertical-align: top;\n",
       "    }\n",
       "\n",
       "    .dataframe thead th {\n",
       "        text-align: right;\n",
       "    }\n",
       "</style>\n",
       "<table border=\"1\" class=\"dataframe\">\n",
       "  <thead>\n",
       "    <tr style=\"text-align: right;\">\n",
       "      <th></th>\n",
       "      <th>id</th>\n",
       "      <th>country</th>\n",
       "      <th>name</th>\n",
       "      <th>founded</th>\n",
       "      <th>type</th>\n",
       "      <th>enrollment</th>\n",
       "      <th>link</th>\n",
       "    </tr>\n",
       "  </thead>\n",
       "  <tbody>\n",
       "  </tbody>\n",
       "</table>\n",
       "</div>"
      ],
      "text/plain": [
       "Empty DataFrame\n",
       "Columns: [id, country, name, founded, type, enrollment, link]\n",
       "Index: []"
      ]
     },
     "execution_count": 28,
     "metadata": {},
     "output_type": "execute_result"
    }
   ],
   "source": [
    "pd.read_sql('SELECT * FROM university;', con=engine)"
   ]
  },
  {
   "cell_type": "markdown",
   "metadata": {},
   "source": [
    "## 8. Load Data into the Database\n",
    "Open and read the SQL script file 'mysql_upsert.sql'. The script contains the SQL command for inseting the scraped data into the table."
   ]
  },
  {
   "cell_type": "code",
   "execution_count": 34,
   "metadata": {},
   "outputs": [
    {
     "data": {
      "text/plain": [
       "'-- Active: 1720513473051@@127.0.0.1@3306@amdaridb\\nINSERT INTO university (country, name, founded, type, enrollment, link)\\nVALUES (%s, %s, %s, %s, %s, %s)\\nON DUPLICATE KEY UPDATE\\n    founded = VALUES(founded),\\n    type = VALUES(type),\\n    enrollment = VALUES(enrollment),\\n    link = VALUES(link);\\n'"
      ]
     },
     "execution_count": 34,
     "metadata": {},
     "output_type": "execute_result"
    }
   ],
   "source": [
    "# load data into the database\n",
    "\n",
    "merge_query_file = open('./sql/mysql_upsert.sql')\n",
    "merge_query = merge_query_file.read()\n",
    "merge_query"
   ]
  },
  {
   "cell_type": "code",
   "execution_count": 35,
   "metadata": {},
   "outputs": [
    {
     "data": {
      "text/plain": [
       "69"
      ]
     },
     "execution_count": 35,
     "metadata": {},
     "output_type": "execute_result"
    }
   ],
   "source": [
    "cursor.executemany(merge_query, data)"
   ]
  },
  {
   "cell_type": "code",
   "execution_count": 1,
   "metadata": {},
   "outputs": [
    {
     "ename": "NameError",
     "evalue": "name 'conn' is not defined",
     "output_type": "error",
     "traceback": [
      "\u001b[1;31m---------------------------------------------------------------------------\u001b[0m",
      "\u001b[1;31mNameError\u001b[0m                                 Traceback (most recent call last)",
      "Cell \u001b[1;32mIn[1], line 2\u001b[0m\n\u001b[0;32m      1\u001b[0m \u001b[38;5;66;03m# save changes to the database\u001b[39;00m\n\u001b[1;32m----> 2\u001b[0m \u001b[43mconn\u001b[49m\u001b[38;5;241m.\u001b[39mcommit()\n",
      "\u001b[1;31mNameError\u001b[0m: name 'conn' is not defined"
     ]
    }
   ],
   "source": [
    "# save changes to the database\n",
    "conn.commit()"
   ]
  },
  {
   "cell_type": "markdown",
   "metadata": {},
   "source": [
    "## 9. Verify Data loading"
   ]
  },
  {
   "cell_type": "code",
   "execution_count": 39,
   "metadata": {},
   "outputs": [
    {
     "data": {
      "text/html": [
       "<div>\n",
       "<style scoped>\n",
       "    .dataframe tbody tr th:only-of-type {\n",
       "        vertical-align: middle;\n",
       "    }\n",
       "\n",
       "    .dataframe tbody tr th {\n",
       "        vertical-align: top;\n",
       "    }\n",
       "\n",
       "    .dataframe thead th {\n",
       "        text-align: right;\n",
       "    }\n",
       "</style>\n",
       "<table border=\"1\" class=\"dataframe\">\n",
       "  <thead>\n",
       "    <tr style=\"text-align: right;\">\n",
       "      <th></th>\n",
       "      <th>id</th>\n",
       "      <th>country</th>\n",
       "      <th>name</th>\n",
       "      <th>founded</th>\n",
       "      <th>type</th>\n",
       "      <th>enrollment</th>\n",
       "      <th>link</th>\n",
       "    </tr>\n",
       "  </thead>\n",
       "  <tbody>\n",
       "    <tr>\n",
       "      <th>0</th>\n",
       "      <td>1</td>\n",
       "      <td>Albania</td>\n",
       "      <td>University of Tirana</td>\n",
       "      <td>1957</td>\n",
       "      <td>Public</td>\n",
       "      <td>35000</td>\n",
       "      <td>https://en.wikipedia.org/wiki/University_of_Ti...</td>\n",
       "    </tr>\n",
       "    <tr>\n",
       "      <th>1</th>\n",
       "      <td>2</td>\n",
       "      <td>Algeria</td>\n",
       "      <td>Constantine University</td>\n",
       "      <td>1978</td>\n",
       "      <td>Public</td>\n",
       "      <td>85000</td>\n",
       "      <td>https://en.wikipedia.org/wiki/List_of_universi...</td>\n",
       "    </tr>\n",
       "    <tr>\n",
       "      <th>2</th>\n",
       "      <td>3</td>\n",
       "      <td>Angola</td>\n",
       "      <td>Agostinho Neto University</td>\n",
       "      <td>1962</td>\n",
       "      <td>Public</td>\n",
       "      <td>29827</td>\n",
       "      <td>https://en.wikipedia.org/wiki/Agostinho_Neto_U...</td>\n",
       "    </tr>\n",
       "    <tr>\n",
       "      <th>3</th>\n",
       "      <td>4</td>\n",
       "      <td>Argentina</td>\n",
       "      <td>University of Buenos Aires</td>\n",
       "      <td>1821</td>\n",
       "      <td>Public</td>\n",
       "      <td>311175</td>\n",
       "      <td>https://en.wikipedia.org/wiki/University_of_Bu...</td>\n",
       "    </tr>\n",
       "    <tr>\n",
       "      <th>4</th>\n",
       "      <td>5</td>\n",
       "      <td>Australia</td>\n",
       "      <td>Monash University</td>\n",
       "      <td>1958</td>\n",
       "      <td>Public</td>\n",
       "      <td>73807</td>\n",
       "      <td>https://en.wikipedia.org/wiki/Monash_University</td>\n",
       "    </tr>\n",
       "    <tr>\n",
       "      <th>...</th>\n",
       "      <td>...</td>\n",
       "      <td>...</td>\n",
       "      <td>...</td>\n",
       "      <td>...</td>\n",
       "      <td>...</td>\n",
       "      <td>...</td>\n",
       "      <td>...</td>\n",
       "    </tr>\n",
       "    <tr>\n",
       "      <th>64</th>\n",
       "      <td>65</td>\n",
       "      <td>Turkey</td>\n",
       "      <td>Anadolu University</td>\n",
       "      <td>1958</td>\n",
       "      <td>Public</td>\n",
       "      <td>1969</td>\n",
       "      <td>https://en.wikipedia.org/wiki/Anadolu_University</td>\n",
       "    </tr>\n",
       "    <tr>\n",
       "      <th>65</th>\n",
       "      <td>66</td>\n",
       "      <td>United Kingdom</td>\n",
       "      <td>Open University</td>\n",
       "      <td>1969</td>\n",
       "      <td>Public</td>\n",
       "      <td>253075</td>\n",
       "      <td>https://en.wikipedia.org/wiki/Open_University</td>\n",
       "    </tr>\n",
       "    <tr>\n",
       "      <th>66</th>\n",
       "      <td>67</td>\n",
       "      <td>United States</td>\n",
       "      <td>Texas A&amp;M University</td>\n",
       "      <td>1876</td>\n",
       "      <td>Public</td>\n",
       "      <td>73284</td>\n",
       "      <td>https://en.wikipedia.org/wiki/Texas_A%26M_Univ...</td>\n",
       "    </tr>\n",
       "    <tr>\n",
       "      <th>67</th>\n",
       "      <td>68</td>\n",
       "      <td>Uruguay</td>\n",
       "      <td>University of the Republic</td>\n",
       "      <td>1949</td>\n",
       "      <td>Public</td>\n",
       "      <td>144108</td>\n",
       "      <td>https://en.wikipedia.org/wiki/University_of_th...</td>\n",
       "    </tr>\n",
       "    <tr>\n",
       "      <th>68</th>\n",
       "      <td>69</td>\n",
       "      <td>Venezuela</td>\n",
       "      <td>Universidad Central de Venezuela</td>\n",
       "      <td>1721</td>\n",
       "      <td>Public</td>\n",
       "      <td>41059</td>\n",
       "      <td>https://en.wikipedia.org/wiki/Universidad_Cent...</td>\n",
       "    </tr>\n",
       "  </tbody>\n",
       "</table>\n",
       "<p>69 rows × 7 columns</p>\n",
       "</div>"
      ],
      "text/plain": [
       "    id         country                              name  founded    type  \\\n",
       "0    1         Albania              University of Tirana     1957  Public   \n",
       "1    2         Algeria            Constantine University     1978  Public   \n",
       "2    3          Angola         Agostinho Neto University     1962  Public   \n",
       "3    4       Argentina        University of Buenos Aires     1821  Public   \n",
       "4    5       Australia                 Monash University     1958  Public   \n",
       "..  ..             ...                               ...      ...     ...   \n",
       "64  65          Turkey                Anadolu University     1958  Public   \n",
       "65  66  United Kingdom                   Open University     1969  Public   \n",
       "66  67   United States              Texas A&M University     1876  Public   \n",
       "67  68         Uruguay        University of the Republic     1949  Public   \n",
       "68  69       Venezuela  Universidad Central de Venezuela     1721  Public   \n",
       "\n",
       "    enrollment                                               link  \n",
       "0        35000  https://en.wikipedia.org/wiki/University_of_Ti...  \n",
       "1        85000  https://en.wikipedia.org/wiki/List_of_universi...  \n",
       "2        29827  https://en.wikipedia.org/wiki/Agostinho_Neto_U...  \n",
       "3       311175  https://en.wikipedia.org/wiki/University_of_Bu...  \n",
       "4        73807    https://en.wikipedia.org/wiki/Monash_University  \n",
       "..         ...                                                ...  \n",
       "64        1969   https://en.wikipedia.org/wiki/Anadolu_University  \n",
       "65      253075      https://en.wikipedia.org/wiki/Open_University  \n",
       "66       73284  https://en.wikipedia.org/wiki/Texas_A%26M_Univ...  \n",
       "67      144108  https://en.wikipedia.org/wiki/University_of_th...  \n",
       "68       41059  https://en.wikipedia.org/wiki/Universidad_Cent...  \n",
       "\n",
       "[69 rows x 7 columns]"
      ]
     },
     "execution_count": 39,
     "metadata": {},
     "output_type": "execute_result"
    }
   ],
   "source": [
    "# read the contents of the university table again to verify that the data has been inserted successfully\n",
    "pd.read_sql(\"SELECT * FROM university;\", con= engine)"
   ]
  },
  {
   "cell_type": "markdown",
   "metadata": {},
   "source": [
    "## Conclusion\n",
    "I loaded the cleaned data from a CSV file into a MySQL database using pandas, pymysql, and SQLAlchemy. I can efficiently manage and interact with your MySQL database."
   ]
  },
  {
   "cell_type": "code",
   "execution_count": null,
   "metadata": {},
   "outputs": [],
   "source": []
  }
 ],
 "metadata": {
  "kernelspec": {
   "display_name": "venv",
   "language": "python",
   "name": "python3"
  },
  "language_info": {
   "codemirror_mode": {
    "name": "ipython",
    "version": 3
   },
   "file_extension": ".py",
   "mimetype": "text/x-python",
   "name": "python",
   "nbconvert_exporter": "python",
   "pygments_lexer": "ipython3",
   "version": "3.11.7"
  }
 },
 "nbformat": 4,
 "nbformat_minor": 2
}
