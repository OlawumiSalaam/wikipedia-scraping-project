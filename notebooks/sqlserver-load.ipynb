{
 "cells": [
  {
   "cell_type": "markdown",
   "metadata": {},
   "source": [
    "## To load the scraped data into SQL Server, follow these steps:"
   ]
  },
  {
   "cell_type": "markdown",
   "metadata": {},
   "source": [
    "## Install Required Packages\n"
   ]
  },
  {
   "cell_type": "code",
   "execution_count": 1,
   "metadata": {},
   "outputs": [],
   "source": [
    "import pandas as pd\n",
    "import pyodbc\n",
    "from sqlalchemy import create_engine, MetaData, Table, Column, Integer, String, BigInteger, UniqueConstraint, text\n"
   ]
  },
  {
   "cell_type": "markdown",
   "metadata": {},
   "source": [
    "## Set Up SQL Server Connection\n",
    "Establish a connection to the SQL Server instance."
   ]
  },
  {
   "cell_type": "code",
   "execution_count": 2,
   "metadata": {},
   "outputs": [],
   "source": [
    "# Define your connection string\n",
    "server = 'localhost'  # Replace with the IP address or hostname of your SQL Server instance\n",
    "database = 'amdaridb'\n",
    "username = 'sa'\n",
    "password = 'amdaripassword_01'\n",
    "driver = '{ODBC Driver 18 for SQL Server}'"
   ]
  },
  {
   "cell_type": "code",
   "execution_count": 3,
   "metadata": {},
   "outputs": [],
   "source": [
    "# Create the connection string with TrustServerCertificate\n",
    "connection_string = f'mssql+pyodbc://{username}:{password}@{server}/{database}?driver={driver}&TrustServerCertificate=yes'"
   ]
  },
  {
   "cell_type": "code",
   "execution_count": 4,
   "metadata": {},
   "outputs": [],
   "source": [
    "# Create the SQLAlchemy engine\n",
    "engine = create_engine(connection_string)"
   ]
  },
  {
   "cell_type": "code",
   "execution_count": 5,
   "metadata": {},
   "outputs": [
    {
     "name": "stdout",
     "output_type": "stream",
     "text": [
      "Error connecting to the database: (pyodbc.Error) ('IM012', '[IM012] [Microsoft][ODBC Driver Manager] DRIVER keyword syntax error (0) (SQLDriverConnect)')\n",
      "(Background on this error at: https://sqlalche.me/e/20/dbapi)\n"
     ]
    },
    {
     "ename": "",
     "evalue": "",
     "output_type": "error",
     "traceback": [
      "\u001b[1;31mThe Kernel crashed while executing code in the current cell or a previous cell. \n",
      "\u001b[1;31mPlease review the code in the cell(s) to identify a possible cause of the failure. \n",
      "\u001b[1;31mClick <a href='https://aka.ms/vscodeJupyterKernelCrash'>here</a> for more info. \n",
      "\u001b[1;31mView Jupyter <a href='command:jupyter.viewOutput'>log</a> for further details."
     ]
    }
   ],
   "source": [
    "# Test the connection\n",
    "try:\n",
    "    with engine.connect() as connection:\n",
    "        result = connection.execute(\"SELECT 1\")\n",
    "        print(\"Connection successful:\", result.fetchall())\n",
    "except Exception as e:\n",
    "    print(\"Error connecting to the database:\", str(e))"
   ]
  },
  {
   "cell_type": "code",
   "execution_count": null,
   "metadata": {},
   "outputs": [],
   "source": [
    "# Create the university table if it doesn't exist\n",
    "with engine.connect() as connection:\n",
    "    connection.execute(\"\"\"\n",
    "        CREATE TABLE IF NOT EXISTS university (\n",
    "            id BIGINT IDENTITY(1,1) PRIMARY KEY,\n",
    "            country NVARCHAR(255) NOT NULL,\n",
    "            university NVARCHAR(255) NOT NULL,\n",
    "            founded INT NOT NULL,\n",
    "            type NVARCHAR(255) NOT NULL,\n",
    "            enrollment BIGINT NOT NULL,\n",
    "            link NVARCHAR(255) NOT NULL,\n",
    "            UNIQUE (country, university)\n",
    "        );\n",
    "    \"\"\")\n"
   ]
  },
  {
   "cell_type": "code",
   "execution_count": null,
   "metadata": {},
   "outputs": [],
   "source": [
    "# Create metadata object\n",
    "metadata = MetaData()"
   ]
  },
  {
   "cell_type": "markdown",
   "metadata": {},
   "source": [
    "## Create the Table Schema\n",
    "Define the table schema in SQL Server and create the table."
   ]
  },
  {
   "cell_type": "code",
   "execution_count": null,
   "metadata": {},
   "outputs": [],
   "source": [
    "# Define the university table\n",
    "university = Table('university', metadata,\n",
    "    Column('id', BigInteger, primary_key=True, autoincrement=True),\n",
    "    Column('country', String(255), nullable=False),\n",
    "    Column('name', String(255), nullable=False),\n",
    "    Column('founded', Integer, nullable=False),\n",
    "    Column('type', String(255), nullable=False),\n",
    "    Column('enrollment', BigInteger, nullable=False),\n",
    "    Column('link', String(255), nullable=False),\n",
    "    UniqueConstraint('country', 'name', name='unique_combination')\n",
    ")\n",
    "\n",
    "# Create the table in the database\n",
    "metadata.create_all(engine)\n",
    "print(\"Table 'university' created successfully.\")"
   ]
  },
  {
   "cell_type": "code",
   "execution_count": null,
   "metadata": {},
   "outputs": [],
   "source": [
    "df = pd.read_csv('universities_clean.csv')"
   ]
  },
  {
   "cell_type": "code",
   "execution_count": null,
   "metadata": {},
   "outputs": [],
   "source": [
    "# Insert the DataFrame into the university table\n",
    "with engine.connect() as connection:\n",
    "    for index, row in df.iterrows():\n",
    "        insert_statement = f\"\"\"\n",
    "        INSERT INTO university (country, name, founded, type, enrollment, link)\n",
    "        VALUES ('{row['country']}', '{row['name']}', {row['founded']}, '{row['type']}', {row['enrollment']}, '{row['link']}')\n",
    "        ON CONFLICT (country, name) DO UPDATE\n",
    "        SET founded = EXCLUDED.founded,\n",
    "            type = EXCLUDED.type,\n",
    "            enrollment = EXCLUDED.enrollment,\n",
    "            link = EXCLUDED.link;\n",
    "        \"\"\"\n",
    "        connection.execute(insert_statement)\n",
    "\n",
    "print(\"Data loaded successfully!\")"
   ]
  },
  {
   "cell_type": "code",
   "execution_count": null,
   "metadata": {},
   "outputs": [],
   "source": [
    "# Check the data in the SQL Server database\n",
    "query = \"SELECT * FROM university\"\n",
    "df_check = pd.read_sql(query, engine)\n",
    "print(df_check.columns)\n"
   ]
  },
  {
   "cell_type": "code",
   "execution_count": null,
   "metadata": {},
   "outputs": [],
   "source": [
    "df_check.shape"
   ]
  }
 ],
 "metadata": {
  "kernelspec": {
   "display_name": "venv",
   "language": "python",
   "name": "python3"
  },
  "language_info": {
   "codemirror_mode": {
    "name": "ipython",
    "version": 3
   },
   "file_extension": ".py",
   "mimetype": "text/x-python",
   "name": "python",
   "nbconvert_exporter": "python",
   "pygments_lexer": "ipython3",
   "version": "3.11.7"
  }
 },
 "nbformat": 4,
 "nbformat_minor": 2
}
